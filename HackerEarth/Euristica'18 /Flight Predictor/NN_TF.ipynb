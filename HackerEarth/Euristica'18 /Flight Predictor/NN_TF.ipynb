{
 "cells": [
  {
   "cell_type": "markdown",
   "metadata": {},
   "source": [
    "## Let's Begin"
   ]
  },
  {
   "cell_type": "code",
   "execution_count": 6,
   "metadata": {},
   "outputs": [],
   "source": [
    "import numpy as np\n",
    "import pandas as pd\n",
    "import tensorflow as tf\n",
    "\n",
    "#np.random.seed(19)"
   ]
  },
  {
   "cell_type": "code",
   "execution_count": 7,
   "metadata": {},
   "outputs": [
    {
     "name": "stdout",
     "output_type": "stream",
     "text": [
      "Modified Training data dimensions = (2182, 226)\n",
      "Modified Test data dimensions = (100, 226)\n"
     ]
    }
   ],
   "source": [
    "train = pd.read_csv('Modified_Training_Data.csv')\n",
    "test = pd.read_csv('Modified_Testing_Data.csv')\n",
    "labels = train.pop('Good_Bad')\n",
    "\n",
    "print('Modified Training data dimensions =', train.shape)\n",
    "print('Modified Test data dimensions =', test.shape)"
   ]
  },
  {
   "cell_type": "code",
   "execution_count": 8,
   "metadata": {},
   "outputs": [
    {
     "data": {
      "text/html": [
       "<div>\n",
       "<style>\n",
       "    .dataframe thead tr:only-child th {\n",
       "        text-align: right;\n",
       "    }\n",
       "\n",
       "    .dataframe thead th {\n",
       "        text-align: left;\n",
       "    }\n",
       "\n",
       "    .dataframe tbody tr th {\n",
       "        vertical-align: top;\n",
       "    }\n",
       "</style>\n",
       "<table border=\"1\" class=\"dataframe\">\n",
       "  <thead>\n",
       "    <tr style=\"text-align: right;\">\n",
       "      <th></th>\n",
       "      <th>Height1 Dew Point</th>\n",
       "      <th>Height1 Pressure</th>\n",
       "      <th>Height1 Temperature</th>\n",
       "      <th>Height1 Wind Direction</th>\n",
       "      <th>Height1 Wind Speed</th>\n",
       "      <th>Height2 Dew Point</th>\n",
       "      <th>Height2 Pressure</th>\n",
       "      <th>Height2 Temperature</th>\n",
       "      <th>Height2 Wind Direction</th>\n",
       "      <th>Height2 Wind Speed</th>\n",
       "      <th>...</th>\n",
       "      <th>Height44 Dew Point</th>\n",
       "      <th>Height44 Pressure</th>\n",
       "      <th>Height44 Temperature</th>\n",
       "      <th>Height44 Wind Direction</th>\n",
       "      <th>Height44 Wind Speed</th>\n",
       "      <th>Height45 Dew Point</th>\n",
       "      <th>Height45 Pressure</th>\n",
       "      <th>Height45 Temperature</th>\n",
       "      <th>Height45 Wind Direction</th>\n",
       "      <th>Height45 Wind Speed</th>\n",
       "    </tr>\n",
       "  </thead>\n",
       "  <tbody>\n",
       "    <tr>\n",
       "      <th>0</th>\n",
       "      <td>-0.119910</td>\n",
       "      <td>0.389446</td>\n",
       "      <td>-0.596675</td>\n",
       "      <td>0.470818</td>\n",
       "      <td>0.198874</td>\n",
       "      <td>-0.028941</td>\n",
       "      <td>0.379991</td>\n",
       "      <td>-0.380792</td>\n",
       "      <td>0.486736</td>\n",
       "      <td>0.338063</td>\n",
       "      <td>...</td>\n",
       "      <td>-0.175333</td>\n",
       "      <td>0.400397</td>\n",
       "      <td>0.096937</td>\n",
       "      <td>0.303945</td>\n",
       "      <td>1.947924</td>\n",
       "      <td>-0.208746</td>\n",
       "      <td>0.404997</td>\n",
       "      <td>0.077952</td>\n",
       "      <td>0.302055</td>\n",
       "      <td>1.916631</td>\n",
       "    </tr>\n",
       "    <tr>\n",
       "      <th>1</th>\n",
       "      <td>-0.740140</td>\n",
       "      <td>0.350660</td>\n",
       "      <td>-1.091694</td>\n",
       "      <td>-0.379641</td>\n",
       "      <td>-0.982819</td>\n",
       "      <td>-0.674705</td>\n",
       "      <td>0.329054</td>\n",
       "      <td>-1.087177</td>\n",
       "      <td>-0.372709</td>\n",
       "      <td>-1.129692</td>\n",
       "      <td>...</td>\n",
       "      <td>-1.558844</td>\n",
       "      <td>0.092903</td>\n",
       "      <td>0.003096</td>\n",
       "      <td>-0.119882</td>\n",
       "      <td>-1.442723</td>\n",
       "      <td>-1.412386</td>\n",
       "      <td>0.084670</td>\n",
       "      <td>-0.020079</td>\n",
       "      <td>-0.079968</td>\n",
       "      <td>-1.446260</td>\n",
       "    </tr>\n",
       "    <tr>\n",
       "      <th>2</th>\n",
       "      <td>-0.490957</td>\n",
       "      <td>0.662828</td>\n",
       "      <td>-0.958861</td>\n",
       "      <td>0.013198</td>\n",
       "      <td>-0.368329</td>\n",
       "      <td>-0.490240</td>\n",
       "      <td>0.642918</td>\n",
       "      <td>-0.977174</td>\n",
       "      <td>-0.082610</td>\n",
       "      <td>-0.202594</td>\n",
       "      <td>...</td>\n",
       "      <td>0.918063</td>\n",
       "      <td>0.215809</td>\n",
       "      <td>-0.330688</td>\n",
       "      <td>0.030058</td>\n",
       "      <td>-0.897548</td>\n",
       "      <td>0.908338</td>\n",
       "      <td>0.203874</td>\n",
       "      <td>-0.269138</td>\n",
       "      <td>0.211642</td>\n",
       "      <td>-0.924545</td>\n",
       "    </tr>\n",
       "    <tr>\n",
       "      <th>3</th>\n",
       "      <td>-0.831845</td>\n",
       "      <td>0.750442</td>\n",
       "      <td>-0.987714</td>\n",
       "      <td>-0.145489</td>\n",
       "      <td>0.746065</td>\n",
       "      <td>-0.813254</td>\n",
       "      <td>0.730137</td>\n",
       "      <td>-1.042170</td>\n",
       "      <td>-0.233787</td>\n",
       "      <td>0.727221</td>\n",
       "      <td>...</td>\n",
       "      <td>-0.566310</td>\n",
       "      <td>0.305596</td>\n",
       "      <td>-0.334611</td>\n",
       "      <td>-1.163486</td>\n",
       "      <td>1.401227</td>\n",
       "      <td>-0.599151</td>\n",
       "      <td>0.294076</td>\n",
       "      <td>-0.336944</td>\n",
       "      <td>-1.183742</td>\n",
       "      <td>1.348804</td>\n",
       "    </tr>\n",
       "    <tr>\n",
       "      <th>4</th>\n",
       "      <td>-0.706708</td>\n",
       "      <td>-1.085039</td>\n",
       "      <td>-0.875024</td>\n",
       "      <td>0.001533</td>\n",
       "      <td>0.428631</td>\n",
       "      <td>-0.748520</td>\n",
       "      <td>-1.110612</td>\n",
       "      <td>-0.942177</td>\n",
       "      <td>0.097247</td>\n",
       "      <td>0.470857</td>\n",
       "      <td>...</td>\n",
       "      <td>-0.919724</td>\n",
       "      <td>-1.801882</td>\n",
       "      <td>-1.580280</td>\n",
       "      <td>0.372596</td>\n",
       "      <td>2.245810</td>\n",
       "      <td>-0.940877</td>\n",
       "      <td>-1.821862</td>\n",
       "      <td>-1.595286</td>\n",
       "      <td>0.377003</td>\n",
       "      <td>2.230434</td>\n",
       "    </tr>\n",
       "  </tbody>\n",
       "</table>\n",
       "<p>5 rows × 225 columns</p>\n",
       "</div>"
      ],
      "text/plain": [
       "   Height1 Dew Point  Height1 Pressure  Height1 Temperature  \\\n",
       "0          -0.119910          0.389446            -0.596675   \n",
       "1          -0.740140          0.350660            -1.091694   \n",
       "2          -0.490957          0.662828            -0.958861   \n",
       "3          -0.831845          0.750442            -0.987714   \n",
       "4          -0.706708         -1.085039            -0.875024   \n",
       "\n",
       "   Height1 Wind Direction  Height1 Wind Speed  Height2 Dew Point  \\\n",
       "0                0.470818            0.198874          -0.028941   \n",
       "1               -0.379641           -0.982819          -0.674705   \n",
       "2                0.013198           -0.368329          -0.490240   \n",
       "3               -0.145489            0.746065          -0.813254   \n",
       "4                0.001533            0.428631          -0.748520   \n",
       "\n",
       "   Height2 Pressure  Height2 Temperature  Height2 Wind Direction  \\\n",
       "0          0.379991            -0.380792                0.486736   \n",
       "1          0.329054            -1.087177               -0.372709   \n",
       "2          0.642918            -0.977174               -0.082610   \n",
       "3          0.730137            -1.042170               -0.233787   \n",
       "4         -1.110612            -0.942177                0.097247   \n",
       "\n",
       "   Height2 Wind Speed         ...           Height44 Dew Point  \\\n",
       "0            0.338063         ...                    -0.175333   \n",
       "1           -1.129692         ...                    -1.558844   \n",
       "2           -0.202594         ...                     0.918063   \n",
       "3            0.727221         ...                    -0.566310   \n",
       "4            0.470857         ...                    -0.919724   \n",
       "\n",
       "   Height44 Pressure  Height44 Temperature  Height44 Wind Direction  \\\n",
       "0           0.400397              0.096937                 0.303945   \n",
       "1           0.092903              0.003096                -0.119882   \n",
       "2           0.215809             -0.330688                 0.030058   \n",
       "3           0.305596             -0.334611                -1.163486   \n",
       "4          -1.801882             -1.580280                 0.372596   \n",
       "\n",
       "   Height44 Wind Speed  Height45 Dew Point  Height45 Pressure  \\\n",
       "0             1.947924           -0.208746           0.404997   \n",
       "1            -1.442723           -1.412386           0.084670   \n",
       "2            -0.897548            0.908338           0.203874   \n",
       "3             1.401227           -0.599151           0.294076   \n",
       "4             2.245810           -0.940877          -1.821862   \n",
       "\n",
       "   Height45 Temperature  Height45 Wind Direction  Height45 Wind Speed  \n",
       "0              0.077952                 0.302055             1.916631  \n",
       "1             -0.020079                -0.079968            -1.446260  \n",
       "2             -0.269138                 0.211642            -0.924545  \n",
       "3             -0.336944                -1.183742             1.348804  \n",
       "4             -1.595286                 0.377003             2.230434  \n",
       "\n",
       "[5 rows x 225 columns]"
      ]
     },
     "execution_count": 8,
     "metadata": {},
     "output_type": "execute_result"
    }
   ],
   "source": [
    "train.drop(['Day_Id'], axis=1, inplace=True)\n",
    "test_id = test.pop('Day_Id')\n",
    "train.head()"
   ]
  },
  {
   "cell_type": "markdown",
   "metadata": {},
   "source": [
    "## Building the Neural Network Classifier"
   ]
  },
  {
   "cell_type": "code",
   "execution_count": 9,
   "metadata": {
    "collapsed": true
   },
   "outputs": [],
   "source": [
    "# firstly we convert the pandas dataframe to numpy values as tensorflow requires the input to be numpy/tensor array\n",
    "\n",
    "def data_transform(data, labels):\n",
    "    data = data.astype(np.float32)\n",
    "    if labels is not None:\n",
    "        labels = (np.arange(2) == labels[:,None]).astype(np.float32)\n",
    "    return data, labels"
   ]
  },
  {
   "cell_type": "code",
   "execution_count": 10,
   "metadata": {
    "collapsed": true
   },
   "outputs": [],
   "source": [
    "train, labels = data_transform(train, labels)\n",
    "test, _ = data_transform(test, None)"
   ]
  },
  {
   "cell_type": "code",
   "execution_count": 11,
   "metadata": {
    "collapsed": true
   },
   "outputs": [],
   "source": [
    "from sklearn.model_selection import train_test_split\n",
    "\n",
    "X_train, X_val, y_train, y_val = train_test_split(train, labels, test_size=0.1, stratify=labels)"
   ]
  },
  {
   "cell_type": "markdown",
   "metadata": {},
   "source": [
    "## Network Architecture"
   ]
  },
  {
   "cell_type": "code",
   "execution_count": 12,
   "metadata": {
    "collapsed": true
   },
   "outputs": [],
   "source": [
    "tf.reset_default_graph()\n",
    "n0, n1, n2, n3, n4, n5 = 225, 225, 100, 50, 25, 2 \n",
    "\n",
    "X = tf.placeholder(dtype=tf.float32, shape=[None, n0])\n",
    "\n",
    "w1 = tf.Variable(tf.truncated_normal(shape=[n0, n1], stddev=0.1))\n",
    "b1 = tf.Variable(tf.zeros(shape=[n1]))\n",
    "\n",
    "w2 = tf.Variable(tf.truncated_normal(shape=[n1, n2], stddev=0.1))\n",
    "b2 = tf.Variable(tf.zeros(shape=[n2]))\n",
    "\n",
    "w3 = tf.Variable(tf.truncated_normal(shape=[n2, n3], stddev=0.1))\n",
    "b3 = tf.Variable(tf.zeros(shape=[n3]))\n",
    "\n",
    "w4 = tf.Variable(tf.truncated_normal(shape=[n3, n4], stddev=0.1))\n",
    "b4 = tf.Variable(tf.zeros(shape=[n4]))\n",
    "\n",
    "w5 = tf.Variable(tf.truncated_normal(shape=[n4, n5], stddev=0.1))\n",
    "b5 = tf.Variable(tf.zeros(shape=[n5]))"
   ]
  },
  {
   "cell_type": "code",
   "execution_count": 13,
   "metadata": {
    "collapsed": true
   },
   "outputs": [],
   "source": [
    "y1 = tf.nn.relu(tf.add(tf.matmul(X, w1), b1))\n",
    "y2 = tf.nn.relu(tf.add(tf.matmul(y1, w2), b2))\n",
    "y3 = tf.nn.relu(tf.add(tf.matmul(y2, w3), b3))\n",
    "y4 = tf.nn.relu(tf.add(tf.matmul(y3, w4), b4))\n",
    "\n",
    "Y = tf.add(tf.matmul(y4, w5), b5)               "
   ]
  },
  {
   "cell_type": "code",
   "execution_count": 14,
   "metadata": {
    "collapsed": true
   },
   "outputs": [],
   "source": [
    "Y_true = tf.placeholder(tf.float32, shape=[None, 2])"
   ]
  },
  {
   "cell_type": "code",
   "execution_count": 15,
   "metadata": {
    "collapsed": true
   },
   "outputs": [],
   "source": [
    "loss = tf.nn.softmax_cross_entropy_with_logits(logits=Y, labels=Y_true)\n",
    "mean_loss = tf.reduce_mean(loss)\n",
    "\n",
    "is_correct = tf.equal(tf.argmax(Y, 1), tf.argmax(Y_true, 1))\n",
    "accuracy = tf.reduce_mean(tf.cast(is_correct, tf.float32))"
   ]
  },
  {
   "cell_type": "markdown",
   "metadata": {},
   "source": [
    "#### Exponentially Decaying Learning Rate"
   ]
  },
  {
   "cell_type": "code",
   "execution_count": 16,
   "metadata": {
    "collapsed": true
   },
   "outputs": [],
   "source": [
    "global_step = tf.Variable(0, trainable=False)\n",
    "start_lr = 0.01\n",
    "learning_rate = 0.0003\n",
    "#learning_rate = tf.train.exponential_decay(start_lr, decay_rate=0.9, decay_steps=1000, global_step=global_step, staircase=True)"
   ]
  },
  {
   "cell_type": "code",
   "execution_count": 17,
   "metadata": {
    "collapsed": true
   },
   "outputs": [],
   "source": [
    "optimize = tf.train.GradientDescentOptimizer(learning_rate=learning_rate).minimize(mean_loss, global_step=global_step)"
   ]
  },
  {
   "cell_type": "markdown",
   "metadata": {},
   "source": [
    "## Training the NN"
   ]
  },
  {
   "cell_type": "code",
   "execution_count": 18,
   "metadata": {
    "collapsed": true
   },
   "outputs": [],
   "source": [
    "sess = tf.InteractiveSession()\n",
    "init = tf.global_variables_initializer()\n",
    "sess.run(init)"
   ]
  },
  {
   "cell_type": "code",
   "execution_count": 19,
   "metadata": {},
   "outputs": [
    {
     "name": "stdout",
     "output_type": "stream",
     "text": [
      "Final Accuracy Achieved = 0.6621\n",
      "Maximum Accuracy during training = 0.6621\n"
     ]
    }
   ],
   "source": [
    "batch_size = 50\n",
    "num_batches = X_train.shape[0]//batch_size\n",
    "epoches = 10000\n",
    "max_acc = -1\n",
    "\n",
    "for ep in range(epoches):\n",
    "    start = 0\n",
    "    end = start + batch_size\n",
    "    curr_ep_loss = 0\n",
    "    \n",
    "    # training the neural network\n",
    "    for b_no in range(num_batches):\n",
    "        batch_x, batch_y = X_train[start:end], y_train[start:end]\n",
    "        start = end\n",
    "\n",
    "        train_dict = {X: batch_x, Y_true: batch_y}\n",
    "        _, loss = sess.run([optimize, mean_loss], feed_dict=train_dict)\n",
    "        curr_ep_loss += loss\n",
    "        \n",
    "    curr_ep_loss /= num_batches\n",
    "    \n",
    "    # calculating the validation loss per epoch\n",
    "    # becoz the validation data will not be huge, we could completely feed it without creating batches\n",
    "    val_dict = {X: X_val, Y_true: y_val}\n",
    "    val_loss, acc = sess.run([mean_loss, accuracy], feed_dict=val_dict)\n",
    "    max_acc = max(acc, max_acc)\n",
    "    '''print(\"Epoch%3d: Train Loss=%0.4f Val Loss=%0.4f  Val Acc=%0.4f eta=%0.5f global_step=%d\"%(\n",
    "            ep, \n",
    "           curr_ep_loss, \n",
    "           val_loss,\n",
    "           acc,\n",
    "           learning_rate,\n",
    "           global_step.eval(session=sess)\n",
    "            ))'''\n",
    "print('Final Accuracy Achieved =',acc)\n",
    "print('Maximum Accuracy during training =', max_acc)\n",
    "#print('Eta =', learning_rate.eval(session=sess))"
   ]
  },
  {
   "cell_type": "code",
   "execution_count": 20,
   "metadata": {
    "collapsed": true
   },
   "outputs": [],
   "source": [
    "predict = tf.argmax(tf.nn.softmax(Y),1)\n",
    "predictions = predict.eval(feed_dict={X: test})"
   ]
  },
  {
   "cell_type": "code",
   "execution_count": 21,
   "metadata": {},
   "outputs": [
    {
     "data": {
      "text/html": [
       "<div>\n",
       "<style>\n",
       "    .dataframe thead tr:only-child th {\n",
       "        text-align: right;\n",
       "    }\n",
       "\n",
       "    .dataframe thead th {\n",
       "        text-align: left;\n",
       "    }\n",
       "\n",
       "    .dataframe tbody tr th {\n",
       "        vertical-align: top;\n",
       "    }\n",
       "</style>\n",
       "<table border=\"1\" class=\"dataframe\">\n",
       "  <thead>\n",
       "    <tr style=\"text-align: right;\">\n",
       "      <th></th>\n",
       "      <th>Day_Id</th>\n",
       "      <th>Label</th>\n",
       "    </tr>\n",
       "  </thead>\n",
       "  <tbody>\n",
       "    <tr>\n",
       "      <th>0</th>\n",
       "      <td>52</td>\n",
       "      <td>0</td>\n",
       "    </tr>\n",
       "    <tr>\n",
       "      <th>1</th>\n",
       "      <td>84</td>\n",
       "      <td>1</td>\n",
       "    </tr>\n",
       "    <tr>\n",
       "      <th>2</th>\n",
       "      <td>87</td>\n",
       "      <td>0</td>\n",
       "    </tr>\n",
       "    <tr>\n",
       "      <th>3</th>\n",
       "      <td>89</td>\n",
       "      <td>0</td>\n",
       "    </tr>\n",
       "    <tr>\n",
       "      <th>4</th>\n",
       "      <td>109</td>\n",
       "      <td>1</td>\n",
       "    </tr>\n",
       "  </tbody>\n",
       "</table>\n",
       "</div>"
      ],
      "text/plain": [
       "   Day_Id  Label\n",
       "0      52      0\n",
       "1      84      1\n",
       "2      87      0\n",
       "3      89      0\n",
       "4     109      1"
      ]
     },
     "execution_count": 21,
     "metadata": {},
     "output_type": "execute_result"
    }
   ],
   "source": [
    "submission = pd.DataFrame({'Day_Id': test_id, 'Label':predictions})\n",
    "submission.head()"
   ]
  },
  {
   "cell_type": "code",
   "execution_count": 22,
   "metadata": {
    "collapsed": true
   },
   "outputs": [],
   "source": [
    "submission.to_csv('MY_SUBMISSION.csv', index=False)"
   ]
  }
 ],
 "metadata": {
  "kernelspec": {
   "display_name": "Python 3",
   "language": "python",
   "name": "python3"
  },
  "language_info": {
   "codemirror_mode": {
    "name": "ipython",
    "version": 3
   },
   "file_extension": ".py",
   "mimetype": "text/x-python",
   "name": "python",
   "nbconvert_exporter": "python",
   "pygments_lexer": "ipython3",
   "version": "3.6.3"
  }
 },
 "nbformat": 4,
 "nbformat_minor": 2
}
