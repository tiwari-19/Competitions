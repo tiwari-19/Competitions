{
 "cells": [
  {
   "cell_type": "markdown",
   "metadata": {},
   "source": [
    "# Data"
   ]
  },
  {
   "cell_type": "code",
   "execution_count": 186,
   "metadata": {},
   "outputs": [],
   "source": [
    "import os\n",
    "import numpy as np\n",
    "import pandas as pd\n",
    "import tensorflow as tf\n",
    "\n",
    "# disable the warnings by tensorflow\n",
    "os.environ['TF_CPP_MIN_LOG_LEVEL'] = '3'\n",
    "\n",
    "# setting the random seed to get consistent results\n",
    "np.random.seed(1)"
   ]
  },
  {
   "cell_type": "code",
   "execution_count": 187,
   "metadata": {},
   "outputs": [
    {
     "data": {
      "text/html": [
       "<div>\n",
       "<style>\n",
       "    .dataframe thead tr:only-child th {\n",
       "        text-align: right;\n",
       "    }\n",
       "\n",
       "    .dataframe thead th {\n",
       "        text-align: left;\n",
       "    }\n",
       "\n",
       "    .dataframe tbody tr th {\n",
       "        vertical-align: top;\n",
       "    }\n",
       "</style>\n",
       "<table border=\"1\" class=\"dataframe\">\n",
       "  <thead>\n",
       "    <tr style=\"text-align: right;\">\n",
       "      <th></th>\n",
       "      <th>PERID</th>\n",
       "      <th>IFATHER</th>\n",
       "      <th>NRCH17_2</th>\n",
       "      <th>IRHHSIZ2</th>\n",
       "      <th>IIHHSIZ2</th>\n",
       "      <th>IRKI17_2</th>\n",
       "      <th>IIKI17_2</th>\n",
       "      <th>IRHH65_2</th>\n",
       "      <th>IIHH65_2</th>\n",
       "      <th>PRXRETRY</th>\n",
       "      <th>...</th>\n",
       "      <th>TOOLONG</th>\n",
       "      <th>TROUBUND</th>\n",
       "      <th>PDEN10</th>\n",
       "      <th>COUTYP2</th>\n",
       "      <th>MAIIN102</th>\n",
       "      <th>AIIND102</th>\n",
       "      <th>ANALWT_C</th>\n",
       "      <th>VESTR</th>\n",
       "      <th>VEREP</th>\n",
       "      <th>Criminal</th>\n",
       "    </tr>\n",
       "  </thead>\n",
       "  <tbody>\n",
       "    <tr>\n",
       "      <th>0</th>\n",
       "      <td>25095143</td>\n",
       "      <td>4</td>\n",
       "      <td>2</td>\n",
       "      <td>4</td>\n",
       "      <td>1</td>\n",
       "      <td>3</td>\n",
       "      <td>1</td>\n",
       "      <td>1</td>\n",
       "      <td>1</td>\n",
       "      <td>99</td>\n",
       "      <td>...</td>\n",
       "      <td>1</td>\n",
       "      <td>2</td>\n",
       "      <td>1</td>\n",
       "      <td>1</td>\n",
       "      <td>2</td>\n",
       "      <td>2</td>\n",
       "      <td>3884.805998</td>\n",
       "      <td>40026</td>\n",
       "      <td>1</td>\n",
       "      <td>0</td>\n",
       "    </tr>\n",
       "    <tr>\n",
       "      <th>1</th>\n",
       "      <td>13005143</td>\n",
       "      <td>4</td>\n",
       "      <td>1</td>\n",
       "      <td>3</td>\n",
       "      <td>1</td>\n",
       "      <td>2</td>\n",
       "      <td>1</td>\n",
       "      <td>1</td>\n",
       "      <td>1</td>\n",
       "      <td>99</td>\n",
       "      <td>...</td>\n",
       "      <td>2</td>\n",
       "      <td>2</td>\n",
       "      <td>2</td>\n",
       "      <td>3</td>\n",
       "      <td>2</td>\n",
       "      <td>2</td>\n",
       "      <td>1627.108106</td>\n",
       "      <td>40015</td>\n",
       "      <td>2</td>\n",
       "      <td>1</td>\n",
       "    </tr>\n",
       "    <tr>\n",
       "      <th>2</th>\n",
       "      <td>67415143</td>\n",
       "      <td>4</td>\n",
       "      <td>1</td>\n",
       "      <td>2</td>\n",
       "      <td>1</td>\n",
       "      <td>2</td>\n",
       "      <td>1</td>\n",
       "      <td>1</td>\n",
       "      <td>1</td>\n",
       "      <td>99</td>\n",
       "      <td>...</td>\n",
       "      <td>2</td>\n",
       "      <td>2</td>\n",
       "      <td>2</td>\n",
       "      <td>3</td>\n",
       "      <td>2</td>\n",
       "      <td>2</td>\n",
       "      <td>4344.957980</td>\n",
       "      <td>40024</td>\n",
       "      <td>1</td>\n",
       "      <td>0</td>\n",
       "    </tr>\n",
       "    <tr>\n",
       "      <th>3</th>\n",
       "      <td>70925143</td>\n",
       "      <td>4</td>\n",
       "      <td>0</td>\n",
       "      <td>2</td>\n",
       "      <td>1</td>\n",
       "      <td>1</td>\n",
       "      <td>1</td>\n",
       "      <td>1</td>\n",
       "      <td>1</td>\n",
       "      <td>99</td>\n",
       "      <td>...</td>\n",
       "      <td>2</td>\n",
       "      <td>2</td>\n",
       "      <td>1</td>\n",
       "      <td>1</td>\n",
       "      <td>2</td>\n",
       "      <td>2</td>\n",
       "      <td>792.521931</td>\n",
       "      <td>40027</td>\n",
       "      <td>1</td>\n",
       "      <td>0</td>\n",
       "    </tr>\n",
       "    <tr>\n",
       "      <th>4</th>\n",
       "      <td>75235143</td>\n",
       "      <td>1</td>\n",
       "      <td>0</td>\n",
       "      <td>6</td>\n",
       "      <td>1</td>\n",
       "      <td>4</td>\n",
       "      <td>1</td>\n",
       "      <td>1</td>\n",
       "      <td>1</td>\n",
       "      <td>99</td>\n",
       "      <td>...</td>\n",
       "      <td>2</td>\n",
       "      <td>2</td>\n",
       "      <td>2</td>\n",
       "      <td>2</td>\n",
       "      <td>2</td>\n",
       "      <td>2</td>\n",
       "      <td>1518.118526</td>\n",
       "      <td>40001</td>\n",
       "      <td>2</td>\n",
       "      <td>0</td>\n",
       "    </tr>\n",
       "  </tbody>\n",
       "</table>\n",
       "<p>5 rows × 72 columns</p>\n",
       "</div>"
      ],
      "text/plain": [
       "      PERID  IFATHER  NRCH17_2  IRHHSIZ2  IIHHSIZ2  IRKI17_2  IIKI17_2  \\\n",
       "0  25095143        4         2         4         1         3         1   \n",
       "1  13005143        4         1         3         1         2         1   \n",
       "2  67415143        4         1         2         1         2         1   \n",
       "3  70925143        4         0         2         1         1         1   \n",
       "4  75235143        1         0         6         1         4         1   \n",
       "\n",
       "   IRHH65_2  IIHH65_2  PRXRETRY    ...     TOOLONG  TROUBUND  PDEN10  COUTYP2  \\\n",
       "0         1         1        99    ...           1         2       1        1   \n",
       "1         1         1        99    ...           2         2       2        3   \n",
       "2         1         1        99    ...           2         2       2        3   \n",
       "3         1         1        99    ...           2         2       1        1   \n",
       "4         1         1        99    ...           2         2       2        2   \n",
       "\n",
       "   MAIIN102  AIIND102     ANALWT_C  VESTR  VEREP  Criminal  \n",
       "0         2         2  3884.805998  40026      1         0  \n",
       "1         2         2  1627.108106  40015      2         1  \n",
       "2         2         2  4344.957980  40024      1         0  \n",
       "3         2         2   792.521931  40027      1         0  \n",
       "4         2         2  1518.118526  40001      2         0  \n",
       "\n",
       "[5 rows x 72 columns]"
      ]
     },
     "execution_count": 187,
     "metadata": {},
     "output_type": "execute_result"
    }
   ],
   "source": [
    "train = pd.read_csv('criminal_train.csv')\n",
    "test = pd.read_csv('criminal_test.csv')\n",
    "\n",
    "train.head()"
   ]
  },
  {
   "cell_type": "code",
   "execution_count": 188,
   "metadata": {},
   "outputs": [
    {
     "name": "stdout",
     "output_type": "stream",
     "text": [
      "IFATHER         [-1  1  2  3  4]\n",
      "NRCH17_2         [-1  0  1  2  3]\n",
      "IRHHSIZ2         [-1  1  2  3  4  5  6]\n",
      "IIHHSIZ2         [-1  1  3]\n",
      "IRKI17_2         [-1  1  2  3  4]\n",
      "IIKI17_2         [-1  1  3]\n",
      "IRHH65_2         [-1  1  2  3]\n",
      "IIHH65_2         [-1  1  2  3]\n",
      "PRXRETRY         [-1  2 94 97 98 99]\n",
      "PRXYDATA         [-1  1  2 94 97 98 99]\n",
      "MEDICARE         [-1  1  2 85 94 97 98]\n",
      "CAIDCHIP         [-1  1  2 85 94 97 98]\n",
      "CHAMPUS         [-1  1  2 85 94 97 98]\n",
      "PRVHLTIN         [-1  1  2 85 94 97 98]\n",
      "GRPHLTIN         [-1  1  2 85 94 97 98 99]\n",
      "HLTINNOS         [-1  1  2 94 97 98 99]\n",
      "HLCNOTYR         [-1  1  2 85 94 97 98 99]\n",
      "HLCNOTMO         [-1  1  2  3  4  5  6  7  8  9 10 11 12 85 94 97 98 99]\n",
      "HLCLAST         [-1  1  2  3  4  5 94 97 98 99]\n",
      "HLLOSRSN         [-1  1  2  3  4  5  6  7  8  9 10 11 12 85 94 97 98 99]\n",
      "HLNVCOST         [-1  1  6 94 97 98 99]\n",
      "HLNVOFFR         [-1  1  6 94 97 98 99]\n",
      "HLNVREF         [-1  1  6 94 97 98 99]\n",
      "HLNVNEED         [-1  1  6 94 97 98 99]\n",
      "HLNVSOR         [-1  1  6 94 97 98 99]\n",
      "IRMCDCHP         [-1  1  2]\n",
      "IIMCDCHP         [-1  1  3]\n",
      "IRMEDICR         [-1  1  2]\n",
      "IIMEDICR         [-1  1  3]\n",
      "IRCHMPUS         [-1  1  2]\n",
      "IICHMPUS         [-1  1  3]\n",
      "IRPRVHLT         [-1  1  2]\n",
      "IIPRVHLT         [-1  1  3]\n",
      "IROTHHLT         [-1  1  2 99]\n",
      "IIOTHHLT         [-1  1  3  9]\n",
      "HLCALLFG         [-1  1 98]\n",
      "HLCALL99         [-1  1 98]\n",
      "ANYHLTI2         [-1  1  2 94 97 98]\n",
      "IRINSUR4         [-1  1  2]\n",
      "IIINSUR4         [-1  1  3]\n",
      "OTHINS         [-1  1  2]\n",
      "CELLNOTCL         [-1  1  2 85 94 97 98]\n",
      "CELLWRKNG         [-1  1  2 85 94 97 98]\n",
      "IRFAMSOC         [-1  1  2]\n",
      "IIFAMSOC         [-1  1  3]\n",
      "IRFAMSSI         [-1  1  2]\n",
      "IIFAMSSI         [-1  1  3]\n",
      "IRFSTAMP         [-1  1  2]\n",
      "IIFSTAMP         [-1  1  3]\n",
      "IRFAMPMT         [-1  1  2]\n",
      "IIFAMPMT         [-1  1  3]\n",
      "IRFAMSVC         [-1  1  2]\n",
      "IIFAMSVC         [-1  1  3]\n",
      "IRWELMOS         [-1  1  2  3  4  5  6  7  8  9 10 11 12 99]\n",
      "IIWELMOS         [-1  1  3  9]\n",
      "IRPINC3         [-1  1  2  3  4  5  6  7]\n",
      "IRFAMIN3         [-1  1  2  3  4  5  6  7]\n",
      "IIPINC3         [-1  1  3]\n",
      "IIFAMIN3         [-1  1  3]\n",
      "GOVTPROG         [-1  1  2]\n",
      "POVERTY3         [-1  1  2  3]\n",
      "TOOLONG         [-1  1  2 98]\n",
      "TROUBUND         [-1  1  2 98]\n",
      "PDEN10         [-1  1  2  3]\n",
      "COUTYP2         [-1  1  2  3]\n",
      "MAIIN102         [-1  1  2]\n",
      "AIIND102         [-1  1  2]\n",
      "VESTR         [   -1 40001 40002 40003 40004 40005 40006 40007 40008 40009 40010 40011\n",
      " 40012 40013 40014 40015 40016 40017 40018 40019 40020 40021 40022 40023\n",
      " 40024 40025 40026 40027 40028 40029 40030 40031 40032 40033 40034 40035\n",
      " 40036 40037 40038 40039 40040 40041 40042 40043 40044 40045 40046 40047\n",
      " 40048 40049 40050]\n",
      "VEREP         [-1  1  2]\n",
      "Criminal         [0 1]\n"
     ]
    }
   ],
   "source": [
    "for col in train.columns:\n",
    "    if col not in ['ANALWT_C', 'PERID']:\n",
    "        print(col,\"       \", np.unique(train[col]))"
   ]
  },
  {
   "cell_type": "code",
   "execution_count": 189,
   "metadata": {},
   "outputs": [
    {
     "name": "stdout",
     "output_type": "stream",
     "text": [
      "Training samples = 45718\n",
      "Testing samples = 11430\n"
     ]
    }
   ],
   "source": [
    "print(\"Training samples =\", train.shape[0])\n",
    "print(\"Testing samples =\", test.shape[0])"
   ]
  },
  {
   "cell_type": "code",
   "execution_count": 190,
   "metadata": {
    "collapsed": true
   },
   "outputs": [],
   "source": [
    "y_train = train.pop('Criminal')"
   ]
  },
  {
   "cell_type": "code",
   "execution_count": 191,
   "metadata": {},
   "outputs": [
    {
     "name": "stdout",
     "output_type": "stream",
     "text": [
      "Criminal= 3175     ,Percentage= 0.06944748239205564\n",
      "NotCriminal= 42543 ,Percentage= 0.9305525176079443\n"
     ]
    }
   ],
   "source": [
    "c1 = np.count_nonzero(y_train==1)\n",
    "c2 = np.count_nonzero(y_train==0)\n",
    "print(\"Criminal=\", c1, \"    ,Percentage=\", c1/(c1+c2))\n",
    "print(\"NotCriminal=\", c2, \",Percentage=\", c2/(c1+c2))"
   ]
  },
  {
   "cell_type": "markdown",
   "metadata": {},
   "source": [
    "# Preprocessing"
   ]
  },
  {
   "cell_type": "code",
   "execution_count": 192,
   "metadata": {},
   "outputs": [
    {
     "data": {
      "text/plain": [
       "(57148, 70)"
      ]
     },
     "execution_count": 192,
     "metadata": {},
     "output_type": "execute_result"
    }
   ],
   "source": [
    "data = pd.concat([train, test])\n",
    "test_id = test.PERID\n",
    "train_rows = train.shape[0]\n",
    "data.drop('PERID', axis=1, inplace=True)\n",
    "data.shape"
   ]
  },
  {
   "cell_type": "code",
   "execution_count": 193,
   "metadata": {},
   "outputs": [
    {
     "data": {
      "text/plain": [
       "IFATHER        2\n",
       "NRCH17_2      92\n",
       "IRHHSIZ2       2\n",
       "IIHHSIZ2       2\n",
       "IRKI17_2       2\n",
       "IIKI17_2       2\n",
       "IRHH65_2       2\n",
       "IIHH65_2       2\n",
       "PRXRETRY       2\n",
       "PRXYDATA       2\n",
       "MEDICARE       2\n",
       "CAIDCHIP       2\n",
       "CHAMPUS        2\n",
       "PRVHLTIN       2\n",
       "GRPHLTIN       2\n",
       "HLTINNOS       2\n",
       "HLCNOTYR       2\n",
       "HLCNOTMO       2\n",
       "HLCLAST        2\n",
       "HLLOSRSN       2\n",
       "HLNVCOST       2\n",
       "HLNVOFFR       2\n",
       "HLNVREF        2\n",
       "HLNVNEED       2\n",
       "HLNVSOR        2\n",
       "IRMCDCHP       2\n",
       "IIMCDCHP       2\n",
       "IRMEDICR       2\n",
       "IIMEDICR       2\n",
       "IRCHMPUS       2\n",
       "            ... \n",
       "OTHINS         2\n",
       "CELLNOTCL      2\n",
       "CELLWRKNG      2\n",
       "IRFAMSOC       2\n",
       "IIFAMSOC       2\n",
       "IRFAMSSI       2\n",
       "IIFAMSSI       2\n",
       "IRFSTAMP       2\n",
       "IIFSTAMP       2\n",
       "IRFAMPMT       2\n",
       "IIFAMPMT       2\n",
       "IRFAMSVC       2\n",
       "IIFAMSVC       2\n",
       "IRWELMOS       2\n",
       "IIWELMOS       2\n",
       "IRPINC3        2\n",
       "IRFAMIN3       2\n",
       "IIPINC3        2\n",
       "IIFAMIN3       2\n",
       "GOVTPROG       2\n",
       "POVERTY3     419\n",
       "TOOLONG        2\n",
       "TROUBUND       2\n",
       "PDEN10         2\n",
       "COUTYP2        2\n",
       "MAIIN102       2\n",
       "AIIND102       2\n",
       "ANALWT_C       2\n",
       "VESTR          2\n",
       "VEREP          2\n",
       "Length: 70, dtype: int64"
      ]
     },
     "execution_count": 193,
     "metadata": {},
     "output_type": "execute_result"
    }
   ],
   "source": [
    "for col in data.columns:\n",
    "    data[col] = data[col].replace(-1, np.nan)\n",
    "\n",
    "data.isnull().sum()"
   ]
  },
  {
   "cell_type": "code",
   "execution_count": 194,
   "metadata": {},
   "outputs": [],
   "source": [
    "from sklearn.preprocessing import Imputer\n",
    "\n",
    "im = Imputer(strategy='most_frequent')\n",
    "\n",
    "for col in data.columns:\n",
    "    data[col] = im.fit_transform(data[[col]])"
   ]
  },
  {
   "cell_type": "code",
   "execution_count": 195,
   "metadata": {
    "collapsed": true
   },
   "outputs": [],
   "source": [
    "from sklearn.preprocessing import MinMaxScaler\n",
    "\n",
    "sc = MinMaxScaler()\n",
    "tmp = sc.fit_transform(data[['ANALWT_C']])\n",
    "data.drop(['ANALWT_C'], axis=1, inplace=True)"
   ]
  },
  {
   "cell_type": "code",
   "execution_count": 196,
   "metadata": {
    "collapsed": true
   },
   "outputs": [],
   "source": [
    "data = pd.get_dummies(data=data, columns=data.columns)"
   ]
  },
  {
   "cell_type": "code",
   "execution_count": 197,
   "metadata": {
    "collapsed": true
   },
   "outputs": [],
   "source": [
    "data['ANALWT_C'] = tmp"
   ]
  },
  {
   "cell_type": "code",
   "execution_count": 198,
   "metadata": {
    "collapsed": true
   },
   "outputs": [],
   "source": [
    "train = data[:train_rows]\n",
    "test = data[train_rows:]\n",
    "\n",
    "del data"
   ]
  },
  {
   "cell_type": "code",
   "execution_count": 199,
   "metadata": {},
   "outputs": [
    {
     "data": {
      "text/plain": [
       "(45718, 333)"
      ]
     },
     "execution_count": 199,
     "metadata": {},
     "output_type": "execute_result"
    }
   ],
   "source": [
    "train.shape"
   ]
  },
  {
   "cell_type": "code",
   "execution_count": 200,
   "metadata": {},
   "outputs": [],
   "source": [
    "from sklearn.model_selection import train_test_split\n",
    "\n",
    "X_train, X_val, y_train, y_val = train_test_split(train, y_train, stratify=y_train, test_size=0.3)"
   ]
  },
  {
   "cell_type": "code",
   "execution_count": 201,
   "metadata": {},
   "outputs": [],
   "source": [
    "def data_transform(data, labels):\n",
    "    data = data.astype(np.float32)\n",
    "    if labels is not None:\n",
    "        labels = (np.arange(0, 2) == labels[:,None]).astype(np.float32)\n",
    "    return data, labels\n",
    "\n",
    "X_train, y_train = data_transform(X_train.values, y_train)\n",
    "X_val, y_val = data_transform(X_val.values, y_val)\n",
    "X_test, _ = data_transform(test.values, None)"
   ]
  },
  {
   "cell_type": "code",
   "execution_count": 216,
   "metadata": {},
   "outputs": [
    {
     "name": "stdout",
     "output_type": "stream",
     "text": [
      "Training dataset dimensions= (32002, 333) \tTraining labels= (32002, 2)\n",
      "Validation dataset dimensions= (13716, 333) \tValidation labels= (13716, 2)\n",
      "Testing Dataset dimensions= (11430, 333)\n"
     ]
    }
   ],
   "source": [
    "print (\"Training dataset dimensions=\",X_train.shape, \"\\tTraining labels=\",y_train.shape)\n",
    "print (\"Validation dataset dimensions=\",X_val.shape, \"\\tValidation labels=\",y_val.shape)\n",
    "print (\"Testing Dataset dimensions=\", X_test.shape)"
   ]
  },
  {
   "cell_type": "code",
   "execution_count": 251,
   "metadata": {
    "collapsed": true
   },
   "outputs": [],
   "source": [
    "tf.reset_default_graph()\n",
    "J, K, L, M, N = 333, 150, 75, 30, 10\n",
    "\n",
    "# input\n",
    "X = tf.placeholder(tf.float32, [None, J])\n",
    "\n",
    "w1 = tf.Variable(tf.truncated_normal([J, K], stddev=0.1))\n",
    "b1 = tf.Variable(tf.zeros([K]))\n",
    "\n",
    "w2 = tf.Variable(tf.truncated_normal([K, L], stddev=0.1))\n",
    "b2 = tf.Variable(tf.zeros([L]))\n",
    "\n",
    "w3 = tf.Variable(tf.truncated_normal([L, M], stddev=0.1))\n",
    "b3 = tf.Variable(tf.zeros([M]))\n",
    "\n",
    "w4 = tf.Variable(tf.truncated_normal([M, N], stddev=0.1))\n",
    "b4 = tf.Variable(tf.zeros([N]))\n",
    "\n",
    "w5 = tf.Variable(tf.truncated_normal([N, 2], stddev=0.1))\n",
    "b5 = tf.Variable(tf.zeros([2]))"
   ]
  },
  {
   "cell_type": "code",
   "execution_count": 252,
   "metadata": {},
   "outputs": [],
   "source": [
    "y1 = tf.nn.relu(tf.matmul(X, w1)+b1)\n",
    "y2 = tf.nn.relu(tf.matmul(y1, w2)+ b2)\n",
    "y3 = tf.nn.relu(tf.matmul(y2, w3)+ b3)\n",
    "y4 = tf.nn.relu(tf.matmul(y3, w4)+ b4)\n",
    "\n",
    "Y = tf.matmul(y4, w5)+ b5"
   ]
  },
  {
   "cell_type": "code",
   "execution_count": 253,
   "metadata": {
    "collapsed": true
   },
   "outputs": [],
   "source": [
    "Y_true = tf.placeholder(tf.float32, [None, 2])"
   ]
  },
  {
   "cell_type": "code",
   "execution_count": 254,
   "metadata": {
    "collapsed": true
   },
   "outputs": [],
   "source": [
    "loss = tf.nn.softmax_cross_entropy_with_logits(logits=Y, labels=Y_true)\n",
    "mean_loss = tf.reduce_mean(loss)\n",
    "is_correct = tf.equal(tf.argmax(Y, 1),tf.argmax(Y_true,1))\n",
    "accuracy = tf.reduce_mean(tf.cast(is_correct,tf.float32))"
   ]
  },
  {
   "cell_type": "code",
   "execution_count": 255,
   "metadata": {
    "collapsed": true
   },
   "outputs": [],
   "source": [
    "global_step = tf.Variable(0, trainable=False)\n",
    "learning_rate=0.01"
   ]
  },
  {
   "cell_type": "code",
   "execution_count": 256,
   "metadata": {
    "collapsed": true
   },
   "outputs": [],
   "source": [
    "optimize = tf.train.AdamOptimizer(learning_rate=learning_rate).minimize(mean_loss, global_step=global_step)"
   ]
  },
  {
   "cell_type": "code",
   "execution_count": null,
   "metadata": {
    "collapsed": true
   },
   "outputs": [],
   "source": [
    "sess = tf.InteractiveSession()\n",
    "initializer = tf.global_variables_initializer()\n",
    "sess.run(initializer)"
   ]
  },
  {
   "cell_type": "code",
   "execution_count": null,
   "metadata": {},
   "outputs": [],
   "source": [
    "batch_size = 50\n",
    "batch_number = X_train.shape[0]//batch_size\n",
    "\n",
    "for epoch_counter in range(10):\n",
    "    curr_epoch_loss = 0\n",
    "    start = 0\n",
    "    end = start + batch_size\n",
    "    \n",
    "    # training the network on batches\n",
    "    for batch_counter in range(batch_number):\n",
    "        batch_x = X_train[start:end]\n",
    "        batch_y = y_train[start:end]\n",
    "        start = end\n",
    "        end = start+batch_size\n",
    "        \n",
    "        train_data = {X: batch_x, Y_true: batch_y}\n",
    "        _, batch_loss = sess.run([optimize,mean_loss], feed_dict=train_data)\n",
    "        curr_epoch_loss += batch_loss\n",
    "    \n",
    "    curr_epoch_loss /= batch_number   \n",
    "    val_data = {X: X_val, Y_true: y_val}\n",
    "    val_loss, val_accuracy = sess.run([mean_loss,accuracy], feed_dict=val_data)\n",
    "    \n",
    "    print (\"Epoch %d: Train Loss=%0.4f Val Loss=%0.4f Val Acc=%0.4f eta=%0.6f global_step=%d\"\n",
    "          % (epoch_counter+1, \n",
    "             curr_epoch_loss, \n",
    "             val_loss, \n",
    "             val_accuracy, \n",
    "             learning_rate,\n",
    "             global_step.eval(session=sess)))"
   ]
  },
  {
   "cell_type": "code",
   "execution_count": null,
   "metadata": {
    "collapsed": true
   },
   "outputs": [],
   "source": [
    "predict = tf.argmax(tf.nn.softmax(Y),1)\n",
    "predictions = predict.eval(feed_dict={X: X_test})"
   ]
  },
  {
   "cell_type": "code",
   "execution_count": null,
   "metadata": {},
   "outputs": [],
   "source": [
    "submission = pd.DataFrame({'PERID': test_id, 'Criminal':predictions})\n",
    "submission = submission[['PERID', 'Criminal']]\n",
    "submission.head()"
   ]
  },
  {
   "cell_type": "code",
   "execution_count": null,
   "metadata": {
    "collapsed": true
   },
   "outputs": [],
   "source": [
    "submission.to_csv('predictions_nn.csv',index=False)"
   ]
  },
  {
   "cell_type": "code",
   "execution_count": null,
   "metadata": {
    "collapsed": true
   },
   "outputs": [],
   "source": []
  }
 ],
 "metadata": {
  "kernelspec": {
   "display_name": "Python 3",
   "language": "python",
   "name": "python3"
  },
  "language_info": {
   "codemirror_mode": {
    "name": "ipython",
    "version": 3
   },
   "file_extension": ".py",
   "mimetype": "text/x-python",
   "name": "python",
   "nbconvert_exporter": "python",
   "pygments_lexer": "ipython3",
   "version": "3.6.3"
  }
 },
 "nbformat": 4,
 "nbformat_minor": 2
}
